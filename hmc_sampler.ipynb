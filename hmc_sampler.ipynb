{
 "cells": [
  {
   "cell_type": "code",
   "execution_count": 7,
   "metadata": {},
   "outputs": [],
   "source": [
    "import scipy.linalg\n",
    "import scipy.stats\n",
    "import numpy as np\n",
    "import pandas as pd\n",
    "import matplotlib.pyplot as plt\n",
    "import seaborn as sns"
   ]
  },
  {
   "cell_type": "markdown",
   "metadata": {},
   "source": [
    "# Implementaion of HMC for a multivariate normal"
   ]
  },
  {
   "cell_type": "code",
   "execution_count": 8,
   "metadata": {},
   "outputs": [],
   "source": [
    "def grad_mvt(theta,cov):\n",
    "    #cov is the varinace or variance-covarianace matrix\n",
    "    if (cov.ndim == 1):\n",
    "        grad = -1/(cov)*theta\n",
    "    else:\n",
    "        grad = -scipy.linalg.inv(cov) @ theta\n",
    "    return (grad)"
   ]
  },
  {
   "cell_type": "code",
   "execution_count": 9,
   "metadata": {},
   "outputs": [],
   "source": [
    "def leapfrog_mvt(theta,r,epsilon,grad_mvt,cov):\n",
    "    r = r + epsilon/2*grad_mvt(theta,cov)\n",
    "    theta = theta + epsilon*r\n",
    "    r = r + epsilon/2*grad_mvt(theta,cov)\n",
    "    return (theta,r)"
   ]
  },
  {
   "cell_type": "code",
   "execution_count": 10,
   "metadata": {},
   "outputs": [],
   "source": [
    "def kinetic_energy(r):\n",
    "    return (1/2*r@r)\n",
    "def potential_energy(theta,cov):\n",
    "    return(-scipy.stats.multivariate_normal.logpdf(x = theta, cov = cov))\n",
    "def joint_density(theta,r,cov):\n",
    "    #return L(theta) - 1/2 * dot(r,r)\n",
    "    return ( np.exp( scipy.stats.multivariate_normal.logpdf(x = theta, cov = cov) -  1/2*r@r) )"
   ]
  },
  {
   "cell_type": "code",
   "execution_count": 11,
   "metadata": {},
   "outputs": [],
   "source": [
    "class HMC_mvt_sampler:\n",
    "    \"\"\"\"\"\n",
    "    HMC sampler for multivariate normal\n",
    "    \"\"\"\"\"\n",
    "    def __init__(self, cov):  \n",
    "        \"\"\"\"\"\n",
    "        initialize with the variance or covariance matrix\n",
    "        \"\"\"\"\"\n",
    "        self.cov = cov\n",
    "        \n",
    "    def run(self, n_samples, epsilon, L):\n",
    "        \"\"\"\"\"\n",
    "        Parameters:\n",
    "        n_samples - number of samples wish to sample from the target\n",
    "        epsilon - step size for leapfrog integration, the smaller the more accurate\n",
    "        L - length of the integration path, the larger, the less each samples are correlated. Needs smaller epsilon if having large L.\n",
    "        \"\"\"\"\"\n",
    "        dimension = self.cov.shape[0]\n",
    "        self.samples = np.zeros((n_samples,dimension))\n",
    "        #initialize at position 0\n",
    "        self.samples[0,] = np.zeros(dimension)\n",
    "        self.rejection_position = []\n",
    "        self.reject_count = 0\n",
    "\n",
    "        for i in range(1,n_samples):\n",
    "            r = np.random.normal(0,1,dimension)\n",
    "            theta = self.samples[i-1,]\n",
    "    \n",
    "            theta_new = theta\n",
    "            theta_telda = theta\n",
    "            r_telda = r\n",
    "            \n",
    "            for k in range(L):\n",
    "                theta_telda, r_telda = leapfrog_mvt(theta_telda,r_telda,epsilon,grad_mvt,self.cov)\n",
    "            \n",
    "            prob = min(1, joint_density(theta_telda,r_telda,self.cov)/joint_density(theta,r,self.cov) )\n",
    "            draw = np.random.binomial(1, p=prob)\n",
    "            if (draw == 1):\n",
    "                theta_new = theta_telda\n",
    "            else:\n",
    "                self.rejection_position.append(i)\n",
    "\n",
    "            self.samples[i,] = theta_new"
   ]
  },
  {
   "cell_type": "code",
   "execution_count": 60,
   "metadata": {},
   "outputs": [],
   "source": [
    "cov = np.array([[1,0.3],[0.3,1]])"
   ]
  },
  {
   "cell_type": "code",
   "execution_count": 61,
   "metadata": {},
   "outputs": [],
   "source": [
    "test = HMC_mvt_sampler(cov)"
   ]
  },
  {
   "cell_type": "code",
   "execution_count": 62,
   "metadata": {},
   "outputs": [],
   "source": [
    "test.run(1200,0.7,9)"
   ]
  },
  {
   "cell_type": "code",
   "execution_count": 63,
   "metadata": {},
   "outputs": [
    {
     "data": {
      "text/plain": [
       "array([[0.97596758, 0.2964243 ],\n",
       "       [0.2964243 , 1.01775051]])"
      ]
     },
     "execution_count": 63,
     "metadata": {},
     "output_type": "execute_result"
    }
   ],
   "source": [
    "np.cov(np.transpose(test.samples[200:1200]))"
   ]
  },
  {
   "cell_type": "code",
   "execution_count": 64,
   "metadata": {},
   "outputs": [
    {
     "data": {
      "text/plain": [
       "array([   1,   46,   79,  110,  115,  120,  142,  169,  181,  196,  210,\n",
       "        239,  246,  248,  253,  254,  256,  277,  278,  291,  300,  320,\n",
       "        328,  333,  340,  348,  354,  409,  465,  499,  513,  558,  564,\n",
       "        570,  574,  581,  592,  603,  614,  617,  669,  688,  697,  698,\n",
       "        713,  722,  734,  752,  757,  764,  779,  827,  829,  845,  850,\n",
       "        856,  886,  894,  896,  905,  918,  922,  930,  933,  938,  950,\n",
       "        984, 1003, 1008, 1012, 1064, 1069, 1105, 1125, 1139, 1180, 1196])"
      ]
     },
     "execution_count": 64,
     "metadata": {},
     "output_type": "execute_result"
    }
   ],
   "source": [
    "np.array(test.rejection_position)"
   ]
  },
  {
   "cell_type": "code",
   "execution_count": 65,
   "metadata": {},
   "outputs": [
    {
     "data": {
      "text/plain": [
       "67"
      ]
     },
     "execution_count": 65,
     "metadata": {},
     "output_type": "execute_result"
    }
   ],
   "source": [
    "#number of rejected samples, after 200 burn-in steps\n",
    "np.sum(np.array(test.rejection_position) > 200)"
   ]
  },
  {
   "cell_type": "code",
   "execution_count": 66,
   "metadata": {},
   "outputs": [],
   "source": [
    "cov = np.array([0.8])"
   ]
  },
  {
   "cell_type": "code",
   "execution_count": 67,
   "metadata": {},
   "outputs": [],
   "source": [
    "test = HMC_mvt_sampler(cov)"
   ]
  },
  {
   "cell_type": "code",
   "execution_count": 68,
   "metadata": {},
   "outputs": [],
   "source": [
    "test.run(1200,0.7,9)"
   ]
  },
  {
   "cell_type": "code",
   "execution_count": 69,
   "metadata": {},
   "outputs": [
    {
     "data": {
      "text/plain": [
       "0.7631486397399245"
      ]
     },
     "execution_count": 69,
     "metadata": {},
     "output_type": "execute_result"
    }
   ],
   "source": [
    "np.var(test.samples[200:1200])"
   ]
  },
  {
   "cell_type": "code",
   "execution_count": 44,
   "metadata": {},
   "outputs": [],
   "source": [
    "#pd.DataFrame(test.samples).to_csv(\"hmc_samples.csv\",index = False)"
   ]
  },
  {
   "cell_type": "markdown",
   "metadata": {},
   "source": [
    "# Demo of 4 iterations of HMC, sampling for a standard normal"
   ]
  },
  {
   "cell_type": "code",
   "execution_count": 76,
   "metadata": {},
   "outputs": [],
   "source": [
    "def leapfrog_path_univariate_normal(epsilon = 0.2, L = 30, theta = np.array([0]), cov = np.array([1]),r = 0.5):\n",
    "    assert cov.ndim == 1, \"only accepting one dimensional numpy array\"\n",
    "    dimension = 1\n",
    "    theta_hist = np.zeros((L,dimension))\n",
    "    r_hist = np.zeros((L,dimension))\n",
    "    for k in range(L):\n",
    "        theta_hist[k,] = theta\n",
    "        r_hist[k,] = r\n",
    "        theta, r = leapfrog_mvt(theta,r,epsilon,grad_mvt,cov)\n",
    "    return(theta_hist,r_hist)"
   ]
  },
  {
   "cell_type": "code",
   "execution_count": 80,
   "metadata": {},
   "outputs": [
    {
     "name": "stdout",
     "output_type": "stream",
     "text": [
      "0\n",
      "[1.62434536]\n"
     ]
    },
    {
     "data": {
      "image/png": "[encoded data removed]",
      "text/plain": [
       "<Figure size 432x288 with 1 Axes>"
      ]
     },
     "metadata": {
      "needs_background": "light"
     },
     "output_type": "display_data"
    },
    {
     "name": "stdout",
     "output_type": "stream",
     "text": [
      "[0.53966094]\n",
      "[-0.41675785]\n"
     ]
    },
    {
     "data": {
      "image/png": "[encoded data removed]",
      "text/plain": [
       "<Figure size 432x288 with 1 Axes>"
      ]
     },
     "metadata": {
      "needs_background": "light"
     },
     "output_type": "display_data"
    },
    {
     "name": "stdout",
     "output_type": "stream",
     "text": [
      "[-0.64778312]\n",
      "[1.78862847]\n"
     ]
    },
    {
     "data": {
      "image/png": "[encoded data removed]",
      "text/plain": [
       "<Figure size 432x288 with 1 Axes>"
      ]
     },
     "metadata": {
      "needs_background": "light"
     },
     "output_type": "display_data"
    },
    {
     "name": "stdout",
     "output_type": "stream",
     "text": [
      "[1.20560746]\n",
      "[0.05056171]\n"
     ]
    },
    {
     "data": {
      "image/png": "[encoded data removed]",
      "text/plain": [
       "<Figure size 432x288 with 1 Axes>"
      ]
     },
     "metadata": {
      "needs_background": "light"
     },
     "output_type": "display_data"
    }
   ],
   "source": [
    "theta_list = []\n",
    "r_list = []\n",
    "\n",
    "#variance of the target univariate normal\n",
    "cov = np.array([1**2])\n",
    "L = 15\n",
    "epsilon = 0.2\n",
    "\n",
    "#starting value for theta\n",
    "theta_hist = np.array([0])\n",
    "for i in range(1,5):\n",
    "    np.random.seed(i)\n",
    "    r = np.random.normal(0,1,1)\n",
    "    \n",
    "    #print starting value for theta\n",
    "    print(theta_hist[-1])\n",
    "    #print sampled momentum\n",
    "    print(r)\n",
    "    \n",
    "    #leapfrog integration\n",
    "    theta_hist, r_hist = leapfrog_path_univariate_normal(cov = cov,epsilon = epsilon, theta = theta_hist[-1], L = L, r = r)\n",
    "    #track theta and momentum\n",
    "    theta_list.append(theta_hist)\n",
    "    r_list.append(r_hist)\n",
    "    \n",
    "    plt.scatter(theta_hist,r_hist)\n",
    "    plt.show()"
   ]
  },
  {
   "cell_type": "code",
   "execution_count": 81,
   "metadata": {},
   "outputs": [],
   "source": [
    "def kinetic_energy_univariate_normal(r):\n",
    "    #replace @ for vectorization\n",
    "    return (1/2*r*r)\n",
    "def potential_energy_univariate_normal(theta,sigma):\n",
    "    return(-scipy.stats.norm.logpdf(x = theta, scale = sigma))\n",
    "def joint_density_univariate_normal(theta,r,sigma):\n",
    "    #return exp ( L(theta) - 1/2 * r * r ) = exp ( -H(theta,r) )\n",
    "    return ( np.exp( scipy.stats.norm.logpdf(x = theta, scale = sigma) -  1/2*r*r) )\n",
    "\n",
    "kinetic_vec = np.vectorize(kinetic_energy_univariate_normal)\n",
    "potential_vec = np.vectorize(potential_energy_univariate_normal)\n",
    "joint_density_vec = np.vectorize(joint_density_univariate_normal)"
   ]
  },
  {
   "cell_type": "code",
   "execution_count": 82,
   "metadata": {},
   "outputs": [],
   "source": [
    "x = np.vstack(theta_list)\n",
    "momentum = np.vstack(r_list)\n",
    "total = potential_vec(x,sigma = 1) + kinetic_vec(momentum)"
   ]
  },
  {
   "cell_type": "code",
   "execution_count": 92,
   "metadata": {},
   "outputs": [],
   "source": [
    "energy = pd.DataFrame(np.column_stack([x,momentum,potential_vec(x,sigma = 1),kinetic_vec(momentum),total]),columns = ['theta','r','potential','kinetic','total'])"
   ]
  },
  {
   "cell_type": "code",
   "execution_count": 612,
   "metadata": {},
   "outputs": [],
   "source": [
    "#energy.to_csv(\"leapfrog_energy.csv\",index = False)"
   ]
  },
  {
   "cell_type": "code",
   "execution_count": 94,
   "metadata": {},
   "outputs": [],
   "source": [
    "energy['steps'] = energy.index"
   ]
  },
  {
   "cell_type": "code",
   "execution_count": 96,
   "metadata": {},
   "outputs": [],
   "source": [
    "energy = energy.melt(id_vars=['theta', 'r','steps'], var_name='energy')"
   ]
  },
  {
   "cell_type": "code",
   "execution_count": 108,
   "metadata": {},
   "outputs": [
    {
     "data": {
      "text/plain": [
       "Text(0.5, 0, 'iteration')"
      ]
     },
     "execution_count": 108,
     "metadata": {},
     "output_type": "execute_result"
    },
    {
     "data": {
      "image/png": "[encoded data removed]",
      "text/plain": [
       "<Figure size 432x288 with 1 Axes>"
      ]
     },
     "metadata": {
      "needs_background": "light"
     },
     "output_type": "display_data"
    }
   ],
   "source": [
    "sns.scatterplot(x=\"steps\", y=\"value\", hue=\"energy\",data=energy)\n",
    "plt.xticks([15, 30, 45, 60],[1,2,3,4])\n",
    "plt.xlabel('iteration')"
   ]
  }
 ],
 "metadata": {
  "kernelspec": {
   "display_name": "Python 3",
   "language": "python",
   "name": "python3"
  },
  "language_info": {
   "codemirror_mode": {
    "name": "ipython",
    "version": 3
   },
   "file_extension": ".py",
   "mimetype": "text/x-python",
   "name": "python",
   "nbconvert_exporter": "python",
   "pygments_lexer": "ipython3",
   "version": "3.7.7"
  }
 },
 "nbformat": 4,
 "nbformat_minor": 4
}
